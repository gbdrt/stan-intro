{
 "cells": [
  {
   "cell_type": "markdown",
   "id": "9dc5fed1-e71d-4df1-ade5-50f2b3e2a4bd",
   "metadata": {},
   "source": [
    "# Une courte introduction à Stan\n",
    "\n",
    "https://mc-stan.org/\n",
    "\n",
    "Stan est probablement le langage probabiliste le plus populaire, utilisé dans de nombreux domaines d'applications.\n",
    "\n",
    "Pour ce TP, nous utiliserons \n",
    "\n",
    "- Jupyter (pour intéragir avec le notebook),\n",
    "- L'interface Python [CmdStanPy](https://mc-stan.org/cmdstanpy/),\n",
    "- Numpy (pour le calcul vectoriel),\n",
    "- Pandas (pour manipuler les données et les resultats),\n",
    "- Matplotlib et ipywidgets pour les visualisations."
   ]
  },
  {
   "cell_type": "code",
   "execution_count": null,
   "id": "2b3826fb-17c8-4cdb-8baf-6ae9d695ccc8",
   "metadata": {},
   "outputs": [],
   "source": [
    "from cmdstanpy import CmdStanModel\n",
    "import numpy as np\n",
    "import pandas as pd\n",
    "import matplotlib.pyplot as plt"
   ]
  },
  {
   "cell_type": "markdown",
   "id": "573fa670-0115-4e17-bc7b-5eb883b4dbf4",
   "metadata": {},
   "source": [
    "Un programme Stan contient plusieurs sections.\n",
    "Les plus utilisées sont les suivantes\n",
    "\n",
    "```stan\n",
    "data {\n",
    "  // input data\n",
    "}\n",
    "parameters {\n",
    "  // latent random variables\n",
    "}\n",
    "model {\n",
    "  // model definition\n",
    "}\n",
    "```\n",
    "\n",
    "Il existe d'autres sections (`transformed data`, `transformed parameters`, `generated quantities`) qui permettent de faire du pre/post-traitement des données et des paramètres.\n",
    "\n",
    "Par exemple, le programme suivant implémente le modèle classique qui infère le biais d'une pièce à partir d'observations statistiques."
   ]
  },
  {
   "cell_type": "code",
   "execution_count": null,
   "id": "56acd559-8e03-4ebc-99ae-d09562332a90",
   "metadata": {},
   "outputs": [],
   "source": [
    "coin_code = \"\"\"\n",
    "data {\n",
    "  int N; // number of observations\n",
    "  int<lower=0, upper=1> y[N]; // array of observations\n",
    "}\n",
    "parameters {\n",
    "  real<lower=0, upper=1> z; // coin bias\n",
    "}\n",
    "model {\n",
    "  for (i in 1:N){\n",
    "      y[i] ~ bernoulli(z);\n",
    "  }\n",
    "}\n",
    "\"\"\"\n",
    "\n",
    "# CmdStanPy can only read stan code from a file.\n",
    "with open(\"./coin.stan\", \"w\") as f:\n",
    "    print(coin_code, file=f)"
   ]
  },
  {
   "cell_type": "markdown",
   "id": "28683c4e-9908-456b-8cd6-e3140bde6d94",
   "metadata": {},
   "source": [
    "On peut ensuite instancier un modèle Stan à partir de ce code, puis lancer l'inférence sur des données concrètes."
   ]
  },
  {
   "cell_type": "code",
   "execution_count": null,
   "id": "8379667f-c6c9-4981-b039-3957b7259a1b",
   "metadata": {},
   "outputs": [],
   "source": [
    "# Dict fields must coincide with model's data.\n",
    "data = {\n",
    "    'N' : 10,\n",
    "    'y' : [0, 1, 1, 0, 0, 0, 0, 0, 0, 0] \n",
    "}\n",
    "\n",
    "stan_model = CmdStanModel(stan_file=\"coin.stan\") # instantiate the model\n",
    "stan_fit = stan_model.sample(data, chains=1) # run inference (1 chains to limit cpu)\n",
    "stan_fit.summary() # Print result summary"
   ]
  },
  {
   "cell_type": "markdown",
   "id": "0137d437",
   "metadata": {},
   "source": [
    "Il est possible de récupérer les échantillons de la distribution a posteriori à l'aide de la méthode `stan_variable`.  \n",
    "Par exemple `stan_fit.stan_variable(\"z\")` renvoie un tableau numpy dont la première dimension correspond au nombre d'échantillons (par défaut 1000).\n",
    "Les dimensions suivantes correspondent aux dimensions du paramètre demandé (ici un simple flottant).\n",
    "\n",
    "On peut vérifier que la moyenne des échantillons (le long de la première dimension) est bien celle affichée par la méthode `summary`."
   ]
  },
  {
   "cell_type": "code",
   "execution_count": null,
   "id": "49b30dd3",
   "metadata": {},
   "outputs": [],
   "source": [
    "z_samples = stan_fit.stan_variable(\"z\")\n",
    "print(f\"z samples shape: {z_samples.shape}\")\n",
    "print(f\"z samples mean: {z_samples.mean(axis=0)}\")"
   ]
  },
  {
   "cell_type": "markdown",
   "id": "ee952c31-da01-4a42-a555-0e5017247dd9",
   "metadata": {},
   "source": [
    "**Attention.**\n",
    "\n",
    "- Les tableaux sont indicés à partir de 1 en Stan (mais 0 en Python)\n",
    "- Tous les paramètres (variables déclarées dans `parameters`) doivent être continus.\n",
    "- `~` ne peut être utilisé qu'avec des paramètres ou des données (variables aléatoires)\n",
    "- Des variables intermédiaires peuvent être définis dans le modèle (e.g., `real foo; foo = 42;`) mais sans contrainte.\n",
    "\n",
    "Le manuel Stan est disponible à l'adresse suivante : https://mc-stan.org/docs/2_28/stan-users-guide/index.html"
   ]
  },
  {
   "cell_type": "markdown",
   "id": "3ef46630-2ae5-48cb-8f54-d638ad1380c0",
   "metadata": {},
   "source": [
    "## Exercice 1 : Baseball Hits 1970.\n",
    "\n",
    "*Adapté du Tutorial [\"Hierarchical Partial Pooling for Repeated Binary Trials\"](https://mc-stan.org/users/documentation/case-studies/pool-binary-trials.html), B. Carpenter, 2016*\n",
    "\n",
    "Dans cet exercice nous essayons de prevoir les performances des joueurs de baseball lors de la Major League Baseball season de 1970.  \n",
    "Les données (Effron et Morris 1975) comprennent pour chaque batteur :\n",
    "- Le nom, prénom, \n",
    "- Le nombre de succès après les 45 premiers essais,\n",
    "- Le nombre d'essais restants jusqu'à la fin de la saison,\n",
    "- Le nombre de succès restants jusqu'à la fin de la saison.\n",
    "\n",
    "**Objectif.** Le but de ce problème est de prédire, pour chaque joueur, le nombre de succès restant à partir des resultats obtenus sur les 45 premiers essais."
   ]
  },
  {
   "cell_type": "code",
   "execution_count": null,
   "id": "42e76298-b327-409d-a25d-b9fc480a41e2",
   "metadata": {},
   "outputs": [],
   "source": [
    "df = pd.read_csv(\"EfronMorrisBB.txt\", sep=\"\\t\")\n",
    "df = df.rename(columns={\"At-Bats\": \"Bats\", \"RemainingAt-Bats\": \"RemainingBats\"})\n",
    "df[\"RemainingHits\"] = df[\"SeasonHits\"] - df[\"Hits\"]\n",
    "df = df[[\"FirstName\", \"LastName\", \"Bats\", \"Hits\", \"RemainingBats\",\"RemainingHits\"]]\n",
    "\n",
    "# Dictionnary contaning all the data.\n",
    "data = {\n",
    "    \"N\": df.shape[0],\n",
    "    \"K\": df[\"Bats\"].to_numpy(),\n",
    "    \"y\": df[\"Hits\"].to_numpy(),\n",
    "}\n",
    "\n",
    "df"
   ]
  },
  {
   "cell_type": "markdown",
   "id": "eb8c9756-5beb-4362-9fae-67e9e93b20c5",
   "metadata": {},
   "source": [
    "**Question 1.** On suppose dans un premier temps que tous les joueurs ont la même probabilité de réussite $\\theta$ à chaque essai.  \n",
    "Proposer un premier modèle qui permet d'inférer ce paramètre.\n",
    "\n",
    "*Note.* voir loi binomiale."
   ]
  },
  {
   "cell_type": "code",
   "execution_count": null,
   "id": "2d541fd7-f240-44c7-86ba-bef4990b350b",
   "metadata": {},
   "outputs": [],
   "source": [
    "baseball1_code=\"\"\"\n",
    "data {\n",
    "    int N;\n",
    "    int<lower=0> K[N];\n",
    "    int<lower=0> y[N];\n",
    "}\n",
    "parameters {\n",
    "    // TODO\n",
    "}\n",
    "model {\n",
    "    // TODO\n",
    "}\n",
    "\"\"\"\n",
    "\n",
    "with open(\"./baseball1.stan\", \"w\") as f:\n",
    "    print(baseball1_code, file=f)\n",
    "\n",
    "stan_model = CmdStanModel(stan_file=\"baseball1.stan\")\n",
    "stan_fit = stan_model.sample(data, chains=1)\n",
    "stan_fit.summary()"
   ]
  },
  {
   "cell_type": "markdown",
   "id": "8412e843-170c-42f1-9f0e-a929de67cc67",
   "metadata": {},
   "source": [
    "**Question 2.** En déduire les predictions moyennes pour chacun des joueurs sachant le nombre d'essais restant jusqu'à la fin de la saison (colonne `df.RemainingBats`)."
   ]
  },
  {
   "cell_type": "code",
   "execution_count": null,
   "id": "b2473ace-2e34-4ecc-b060-e627c0a472e7",
   "metadata": {},
   "outputs": [],
   "source": [
    "df[\"Prediction1\"] = None # TODO\n",
    "df"
   ]
  },
  {
   "cell_type": "markdown",
   "id": "db781cdd-34a0-46e5-8c8a-9c08cbd05fa0",
   "metadata": {},
   "source": [
    "Ce premier résultat est un bon début, mais il n'est pas très réaliste.\n",
    "En pratique, les statistiques de certains batteurs sont [nettement supérieurs](https://www.baseball-reference.com/awards/hof_batting.shtml) à ceux des autres.\n",
    "\n",
    "**Question 3.** Proposer un nouveau modèle, où les chances de succès de chaque joueur sont indépendantes des autres."
   ]
  },
  {
   "cell_type": "code",
   "execution_count": null,
   "id": "3f23edca-4ed0-4ffa-9ef8-60924eaae7f6",
   "metadata": {},
   "outputs": [],
   "source": [
    "baseball2_code=\"\"\"\n",
    "    // TODO\n",
    "\"\"\"\n",
    "\n",
    "with open(\"./baseball2.stan\", \"w\") as f:\n",
    "    print(baseball2_code, file=f)\n",
    "\n",
    "stan_model = CmdStanModel(stan_file=\"baseball2.stan\")\n",
    "stan_fit = stan_model.sample(data, chains=1)\n",
    "stan_fit.summary()"
   ]
  },
  {
   "cell_type": "markdown",
   "id": "443a6989-9306-4927-9d1d-bde35fc1759e",
   "metadata": {},
   "source": [
    "**Question 4.** En déduire les nouvelles predictions pour chacun des joueurs sachant le nombre d'essais restant jusqu'à la fin de la saison.\n",
    "\n",
    "*Note.* On pourra utiliser `stan_fit.stan_variable(\"theta\")`.\n",
    "Comme précédemment, on prendra pour chaque joueur la valeur moyenne de theta."
   ]
  },
  {
   "cell_type": "code",
   "execution_count": null,
   "id": "cd8e8f99-c4b6-4c26-ac0d-b6537479dc46",
   "metadata": {},
   "outputs": [],
   "source": [
    "df[\"Prediction2\"] = None # TODO\n",
    "df"
   ]
  },
  {
   "cell_type": "markdown",
   "id": "6520e743-dfa2-4dd4-b6ee-5c43f72ca44d",
   "metadata": {},
   "source": [
    "Pour finir, on voudrait ajouter des effets de population globaux à tous les joueurs.\n",
    "Par exemple, si tous les autres joueurs font une saison exceptionnelle, il est probable que Berry aura lui aussi de très bons résultats.\n",
    "\n",
    "On suppose maintenant que pour chaque joueur le paramètre $\\theta$ suit une loi $\\rm{Beta}(\\alpha, \\beta)$ (comme pour la pièce biaisée), où les paramètres $\\alpha$, et $\\beta$ sont communs à tous les joueurs.\n",
    "On a maintenant un modèle hierarchique (le paramètre $\\theta$ dépend lui même de 2 autres paramètres).\n",
    "\n",
    "Il peut être difficile de trouver une bonne distribution a priori pour ces \"hyperparamètres\" $\\alpha$, et $\\beta$.\n",
    "Pour contourner ce problème, on peut \"reparamétriser\" le modèle en introduisant les paramètres $\\phi \\in [0, 1]$ et $\\kappa \\in [1, \\infty)$ tels que : \n",
    "\n",
    "$$\n",
    "\\alpha = \\kappa * \\phi\n",
    "\\quad\n",
    "\\beta = \\kappa * (1 - \\phi)\n",
    "$$\n",
    "\n",
    "La litérature propose alors les distributions a priori suivantes pour $\\kappa$ et $\\phi$ :\n",
    "$$\n",
    "\\phi \\sim \\rm{Uniform}(0, 1)\n",
    "\\quad\n",
    "\\kappa \\sim \\rm{Pareto}(1, 1.5)\n",
    "$$\n",
    "\n",
    "\n",
    "**Question 5.** Implémenter ce dernier modèle en Stan."
   ]
  },
  {
   "cell_type": "code",
   "execution_count": null,
   "id": "d5840bb7-774f-4be0-b8ae-6181901876e1",
   "metadata": {},
   "outputs": [],
   "source": [
    "baseball3_code = \"\"\"\n",
    "    // TODO\n",
    "\"\"\"\n",
    "\n",
    "with open(\"./baseball3.stan\", \"w\") as f:\n",
    "    print(baseball3_code, file=f)\n",
    "\n",
    "stan_model = CmdStanModel(stan_file=\"baseball3.stan\")\n",
    "stan_fit = stan_model.sample(data, chains=1)\n",
    "stan_fit.summary()"
   ]
  },
  {
   "cell_type": "markdown",
   "id": "8342b9ec-d447-4e8f-8d90-646d849b9797",
   "metadata": {},
   "source": [
    "**Question 6.** En déduire les nouvelles prédictions pour chaque joueur."
   ]
  },
  {
   "cell_type": "code",
   "execution_count": null,
   "id": "128c120e-32e8-466c-ba9d-8ebd17f50372",
   "metadata": {},
   "outputs": [],
   "source": [
    "df[\"Prediction3\"] = None # TODO\n",
    "df"
   ]
  },
  {
   "cell_type": "markdown",
   "id": "06b3d7c5-a29e-4078-bcda-6fb92755529e",
   "metadata": {},
   "source": [
    "## Exercice 2 : Variations sur une régression linéaire.\n",
    "\n",
    "**Objectif.** Le but de cet exercice est d'utiliser Stan pour trouver une regression linéaire.  \n",
    "Plutôt que de trouver la meilleure solution, on cherche ici une distribution de regressions possibles.\n",
    "\n",
    "On considère les données bruitées suivantes."
   ]
  },
  {
   "cell_type": "code",
   "execution_count": null,
   "id": "9921d710-4858-42e3-8975-c31899d85039",
   "metadata": {},
   "outputs": [],
   "source": [
    "N = 8\n",
    "noise = 0.25\n",
    "lower = 0\n",
    "upper = 10\n",
    "\n",
    "x_obs = np.linspace(lower, upper, N)\n",
    "y_obs = 2 * np.tanh(4 * (x_obs - upper) / upper) + noise * np.random.randn(N)\n",
    "\n",
    "data = {\n",
    "    'N': N,\n",
    "    'low': lower,\n",
    "    'up': upper,\n",
    "    'x': x_obs,\n",
    "    'y': y_obs\n",
    "}\n",
    "\n",
    "plt.scatter(x_obs, y_obs, color='red')"
   ]
  },
  {
   "cell_type": "markdown",
   "id": "af77b15b-2fe7-493f-8158-88d26edd9116",
   "metadata": {},
   "source": [
    "**Question 1.** Proposer un premier modèle de regression linéaire $y \\sim \\mathcal{N}(ax + b, \\sigma)$.  \n",
    "On cherche à estimer les paramètres $a$, $b$, et $\\sigma$ (bruit)."
   ]
  },
  {
   "cell_type": "code",
   "execution_count": null,
   "id": "a5391f99-7bf0-4f10-9484-7949d0313522",
   "metadata": {},
   "outputs": [],
   "source": [
    "regression1_code = \"\"\"\n",
    "    // TODO\n",
    "\"\"\"\n",
    "\n",
    "with open(\"./regression1.stan\", \"w\") as f:\n",
    "    print(regression1_code, file=f)\n",
    "\n",
    "stan_model = CmdStanModel(stan_file=\"regression1.stan\")\n",
    "stan_fit = stan_model.sample(data, chains=1)\n",
    "stan_fit.summary()"
   ]
  },
  {
   "cell_type": "markdown",
   "id": "de811b96-fc63-47df-9e90-d40fcef51f28",
   "metadata": {},
   "source": [
    "On peut maintenant afficher quelque échantillons pour observer la distribution obtenue."
   ]
  },
  {
   "cell_type": "code",
   "execution_count": null,
   "id": "6a6d741c-cf7b-4bbb-88ce-88b5595d2d28",
   "metadata": {},
   "outputs": [],
   "source": [
    "for i in range(500):\n",
    "    x = np.linspace(lower, upper, 2)\n",
    "    a = stan_fit.stan_variable(\"a\")[i]\n",
    "    b = stan_fit.stan_variable(\"b\")[i]\n",
    "    plt.plot(x, a * x + b, color='blue', alpha=0.1, zorder=0)\n",
    "    \n",
    "plt.scatter(x_obs, y_obs, color='red', zorder=1)"
   ]
  },
  {
   "cell_type": "markdown",
   "id": "d8ccd98d-6a38-4c8d-bd73-d355519505a9",
   "metadata": {},
   "source": [
    "Le résultat correspond à nos attente, mais n'est pas formidable pour notre jeux de données où on observe une rupture de pente.\n",
    "\n",
    "**Question 2.** Proposer un nouveau modèle avec un paramètre supplémentaire `cut` pour ce point de rupture et deux regressions : avant et après ce point.\n",
    "On pourra representer les paramètres `a` et `b` par des vecteurs à 2 dimensions."
   ]
  },
  {
   "cell_type": "code",
   "execution_count": null,
   "id": "20bf7898-7bf7-442d-8bb7-08295874af68",
   "metadata": {},
   "outputs": [],
   "source": [
    "regression2_code = \"\"\"\n",
    "    // TODO\n",
    "\"\"\"\n",
    "\n",
    "with open(\"./regression2.stan\", \"w\") as f:\n",
    "    print(regression2_code, file=f)\n",
    "\n",
    "stan_model = CmdStanModel(stan_file=\"regression2.stan\")\n",
    "stan_fit = stan_model.sample(data, chains=1)\n",
    "stan_fit.summary()"
   ]
  },
  {
   "cell_type": "markdown",
   "id": "a11a4260-476e-420a-8965-69f5c0b07a9d",
   "metadata": {},
   "source": [
    "On peut à nouveau visualiser la distribution obtenue."
   ]
  },
  {
   "cell_type": "code",
   "execution_count": null,
   "id": "f53e6a3f-1f54-4a5c-bab2-c8b9f4609e34",
   "metadata": {},
   "outputs": [],
   "source": [
    "for i in range(500):\n",
    "    a = stan_fit.stan_variable(\"a\")[i]\n",
    "    b = stan_fit.stan_variable(\"b\")[i]\n",
    "    cut = stan_fit.stan_variable(\"cut\")[i]\n",
    "    x = np.linspace(lower, cut, 2)\n",
    "    plt.plot(x, a[0] * x + b[0], color='blue', alpha=0.1, zorder=0)\n",
    "    x = np.linspace(cut, upper, 2)\n",
    "    plt.plot(x, a[1] * x + b[1], color='blue', alpha=0.1, zorder=0)\n",
    "    \n",
    "plt.scatter(x_obs, y_obs, color='red', zorder=1)"
   ]
  },
  {
   "cell_type": "markdown",
   "id": "dca73695-5dc0-49d7-b198-c7699b0a8abb",
   "metadata": {},
   "source": [
    "**Question 3.** Proposer maintenant un modèle ou le nombre (maximal) de changement de pente $C$ est donné.  \n",
    "(Pour simplifier on pourra fixer la valeur du bruit $\\sigma$ dans ce modèle à une valeur raisonnable).\n",
    "Les points de rupture `cuts` pourront être stockés dans un vecteur trié de dimension $C$ (cf. fonction `sort_asc`)."
   ]
  },
  {
   "cell_type": "code",
   "execution_count": null,
   "id": "27f14c50-65c7-436c-9fca-766a58ce185c",
   "metadata": {},
   "outputs": [],
   "source": [
    "regression3_code = \"\"\"\n",
    "    // TODO\n",
    "\"\"\"\n",
    "\n",
    "with open(\"./regression3.stan\", \"w\") as f:\n",
    "    print(regression3_code, file=f)"
   ]
  },
  {
   "cell_type": "markdown",
   "id": "c8e68d05-15dd-4343-8fc8-7f08cff0359d",
   "metadata": {},
   "source": [
    "On peut maintenant essayer le même jeu de données avec plus de rupture de pente."
   ]
  },
  {
   "cell_type": "code",
   "execution_count": null,
   "id": "ae988a57-3af0-4fc6-a7a8-716c45c6bc72",
   "metadata": {},
   "outputs": [],
   "source": [
    "C = 4\n",
    "\n",
    "stan_model = CmdStanModel(stan_file=\"regression3.stan\")\n",
    "stan_fit = stan_model.sample(data = {**data, 'C':C}, chains=1)"
   ]
  },
  {
   "cell_type": "code",
   "execution_count": null,
   "id": "8e90ca76-70a3-4447-bbfb-0f712a9311e8",
   "metadata": {},
   "outputs": [],
   "source": [
    "ax = plt.gca()\n",
    "ax.set_ylim(-3, 3)\n",
    "for i in range(100):\n",
    "    cuts = np.append(stan_fit.stan_variable(\"cuts\")[i], upper)\n",
    "    a = stan_fit.stan_variable(\"a\")[i]\n",
    "    b = stan_fit.stan_variable(\"b\")[i]\n",
    "    low = lower\n",
    "    for j in range(0,C+1):\n",
    "        up = cuts[j]\n",
    "        x = np.linspace(low, up, 2)\n",
    "        plt.plot(x, a[j] * x + b[j], color='blue', alpha=0.1, zorder=0)\n",
    "        low = up\n",
    "    \n",
    "plt.scatter(x_obs, y_obs, color='red', zorder=1)"
   ]
  },
  {
   "cell_type": "markdown",
   "id": "b207235b-fc84-4863-8a1c-c0c097f039b3",
   "metadata": {},
   "source": [
    "Et maintenant sur un jeu de données plus compliqué."
   ]
  },
  {
   "cell_type": "code",
   "execution_count": null,
   "id": "b893b0ea-84c2-4e92-8f72-71a89131e7c3",
   "metadata": {},
   "outputs": [],
   "source": [
    "N = 20\n",
    "x_obs = np.linspace(lower, upper, N)\n",
    "y_obs = 2 * np.sin(x_obs)\n",
    "\n",
    "data = {\n",
    "    **data,\n",
    "    'N': N, \n",
    "    'C': C,\n",
    "    'x': x_obs,\n",
    "    'y': y_obs\n",
    "}\n",
    "\n",
    "plt.scatter(x_obs, y_obs, color='red', zorder=1)"
   ]
  },
  {
   "cell_type": "code",
   "execution_count": null,
   "id": "d1222728-27ae-4776-93e3-4bb149e3935f",
   "metadata": {},
   "outputs": [],
   "source": [
    "stan_model = CmdStanModel(stan_file=\"regression3.stan\")\n",
    "stan_fit = stan_model.sample(data, chains=1)"
   ]
  },
  {
   "cell_type": "code",
   "execution_count": null,
   "id": "e4a9440b-5896-4de9-a432-1db9e2b4b1c8",
   "metadata": {},
   "outputs": [],
   "source": [
    "ax = plt.gca()\n",
    "ax.set_ylim(-3, 3)\n",
    "for i in range(100):\n",
    "    cuts = np.append(stan_fit.stan_variable(\"cuts\")[i], upper)\n",
    "    a = stan_fit.stan_variable(\"a\")[i]\n",
    "    b = stan_fit.stan_variable(\"b\")[i]\n",
    "    low = lower\n",
    "    for j in range(0,C+1):\n",
    "        up = cuts[j]\n",
    "        x = np.linspace(low, up, 2)\n",
    "        plt.plot(x, a[j] * x + b[j], color='blue', alpha=0.1, zorder=0)\n",
    "        low = up\n",
    "    \n",
    "plt.scatter(x_obs, y_obs, color='red', zorder=1)"
   ]
  },
  {
   "cell_type": "code",
   "execution_count": null,
   "id": "5f3eea00-349e-406e-9a72-eca281686216",
   "metadata": {},
   "outputs": [],
   "source": []
  }
 ],
 "metadata": {
  "kernelspec": {
   "display_name": "Python 3 (ipykernel)",
   "language": "python",
   "name": "python3"
  },
  "language_info": {
   "codemirror_mode": {
    "name": "ipython",
    "version": 3
   },
   "file_extension": ".py",
   "mimetype": "text/x-python",
   "name": "python",
   "nbconvert_exporter": "python",
   "pygments_lexer": "ipython3",
   "version": "3.9.6"
  }
 },
 "nbformat": 4,
 "nbformat_minor": 5
}
